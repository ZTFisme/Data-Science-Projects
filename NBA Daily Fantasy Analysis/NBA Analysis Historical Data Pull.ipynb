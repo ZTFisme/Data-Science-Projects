{
 "cells": [
  {
   "cell_type": "code",
   "execution_count": 1,
   "metadata": {},
   "outputs": [],
   "source": [
    "import pandas as pd\n",
    "import nba_api\n",
    "from pulp import *"
   ]
  },
  {
   "cell_type": "code",
   "execution_count": 23,
   "metadata": {},
   "outputs": [],
   "source": [
    "## Get historical dataset of player data for 5 years\n",
    "## Mix of traditional and advanced box scores from NBA API"
   ]
  },
  {
   "cell_type": "code",
   "execution_count": 4,
   "metadata": {},
   "outputs": [],
   "source": [
    "## Pull Traditional player boxscores for past 5 seasons\n",
    "from nba_api.stats.endpoints import playergamelogs\n",
    "seasons = ['2018-19', '2019-20', '2020-21', '2021-22']\n",
    "\n",
    "advanced_logs = pd.DataFrame()\n",
    "trad_logs = pd.DataFrame()\n",
    "\n",
    "for season in seasons:   \n",
    "    \n",
    "    tradlog = playergamelogs.PlayerGameLogs(season_nullable= season, measure_type_player_game_logs_nullable = nba_api.stats.library.parameters.MeasureTypePlayerGameLogs.base)\n",
    "    tlogs = tradlog.get_data_frames()[0]\n",
    "    trad_logs = trad_logs.append(tlogs)"
   ]
  },
  {
   "cell_type": "code",
   "execution_count": 7,
   "metadata": {},
   "outputs": [],
   "source": [
    "for season in seasons:\n",
    "    advlogs = playergamelogs.PlayerGameLogs(season_nullable= season, measure_type_player_game_logs_nullable = nba_api.stats.library.parameters.MeasureTypePlayerGameLogs.advanced)\n",
    "    alogs = advlogs.get_data_frames()[0]\n",
    "    advanced_logs = advanced_logs.append(alogs)"
   ]
  },
  {
   "cell_type": "code",
   "execution_count": 8,
   "metadata": {},
   "outputs": [],
   "source": [
    "# determining the name of the file\n",
    "#file_name1 = 'NBA_Traditional_Player_Data.xlsx'\n",
    "file_name2 = 'NBA_Advanced_Player_Data.xlsx'\n",
    "  \n",
    "# saving the excel\n",
    "#trad_logs.to_excel(file_name1)\n",
    "advanced_logs.to_excel(file_name2)\n"
   ]
  },
  {
   "cell_type": "code",
   "execution_count": null,
   "metadata": {},
   "outputs": [],
   "source": [
    "## Pull Advanced player boxscores for past 5 seasons"
   ]
  },
  {
   "cell_type": "code",
   "execution_count": null,
   "metadata": {},
   "outputs": [],
   "source": [
    "## Determine advanced stats and recent trends and how they impact prediction accuracy\n",
    "## Test different time series models and predictive models and different amounts of time to use"
   ]
  },
  {
   "cell_type": "code",
   "execution_count": null,
   "metadata": {},
   "outputs": [],
   "source": [
    "##Test if yahoo fantasy api is usable to automatically pull in DFS data"
   ]
  },
  {
   "cell_type": "code",
   "execution_count": null,
   "metadata": {},
   "outputs": [],
   "source": [
    "#Utilize existing model to output an optimized lineup based on prediction model"
   ]
  }
 ],
 "metadata": {
  "kernelspec": {
   "display_name": "Python 3",
   "language": "python",
   "name": "python3"
  },
  "language_info": {
   "codemirror_mode": {
    "name": "ipython",
    "version": 3
   },
   "file_extension": ".py",
   "mimetype": "text/x-python",
   "name": "python",
   "nbconvert_exporter": "python",
   "pygments_lexer": "ipython3",
   "version": "3.7.4"
  }
 },
 "nbformat": 4,
 "nbformat_minor": 2
}
