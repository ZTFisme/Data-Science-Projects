{
 "cells": [
  {
   "cell_type": "markdown",
   "metadata": {},
   "source": [
    "# NBA Data Science Analysis"
   ]
  },
  {
   "cell_type": "code",
   "execution_count": 10,
   "metadata": {},
   "outputs": [],
   "source": [
    "#Import Excel data - done\n",
    "#Create new List of average fantasy points for each player - done\n",
    "#Join back into original data set - done\n",
    "#Add in different Moving Averages/Forecasts by player to test accuracy of forecasting\n",
    "\n",
    "import numpy as np\n",
    "import pandas as pd\n",
    "from sklearn import preprocessing\n",
    "import matplotlib.pyplot as plt"
   ]
  },
  {
   "cell_type": "code",
   "execution_count": 11,
   "metadata": {},
   "outputs": [
    {
     "data": {
      "text/html": [
       "<div>\n",
       "<style scoped>\n",
       "    .dataframe tbody tr th:only-of-type {\n",
       "        vertical-align: middle;\n",
       "    }\n",
       "\n",
       "    .dataframe tbody tr th {\n",
       "        vertical-align: top;\n",
       "    }\n",
       "\n",
       "    .dataframe thead th {\n",
       "        text-align: right;\n",
       "    }\n",
       "</style>\n",
       "<table border=\"1\" class=\"dataframe\">\n",
       "  <thead>\n",
       "    <tr style=\"text-align: right;\">\n",
       "      <th></th>\n",
       "      <th>MIN</th>\n",
       "      <th>PTS</th>\n",
       "      <th>FGM</th>\n",
       "      <th>FGA</th>\n",
       "      <th>3PM</th>\n",
       "      <th>3PA</th>\n",
       "      <th>FTM</th>\n",
       "      <th>FTA</th>\n",
       "      <th>OREB</th>\n",
       "      <th>DREB</th>\n",
       "      <th>...</th>\n",
       "      <th>TOV</th>\n",
       "      <th>PF</th>\n",
       "      <th>+/-</th>\n",
       "      <th>FPTS</th>\n",
       "      <th>FPTS/MIN</th>\n",
       "      <th>AVG_FPTS</th>\n",
       "      <th>PTS_DIFF</th>\n",
       "      <th>OPP_POS_FPTS</th>\n",
       "      <th>OPP_POS_FPTS/MIN</th>\n",
       "      <th>OPP_PTS_DIFF</th>\n",
       "    </tr>\n",
       "  </thead>\n",
       "  <tbody>\n",
       "    <tr>\n",
       "      <td>count</td>\n",
       "      <td>10897.000000</td>\n",
       "      <td>10897.000000</td>\n",
       "      <td>10897.000000</td>\n",
       "      <td>10897.000000</td>\n",
       "      <td>10897.000000</td>\n",
       "      <td>10897.000000</td>\n",
       "      <td>10897.000000</td>\n",
       "      <td>10897.000000</td>\n",
       "      <td>10897.000000</td>\n",
       "      <td>10897.000000</td>\n",
       "      <td>...</td>\n",
       "      <td>10897.000000</td>\n",
       "      <td>10897.000000</td>\n",
       "      <td>10897.000000</td>\n",
       "      <td>10897.000000</td>\n",
       "      <td>10897.000000</td>\n",
       "      <td>10897.000000</td>\n",
       "      <td>1.089700e+04</td>\n",
       "      <td>10897.000000</td>\n",
       "      <td>10897.000000</td>\n",
       "      <td>10897.000000</td>\n",
       "    </tr>\n",
       "    <tr>\n",
       "      <td>mean</td>\n",
       "      <td>22.795540</td>\n",
       "      <td>10.571258</td>\n",
       "      <td>3.872993</td>\n",
       "      <td>8.337341</td>\n",
       "      <td>1.211710</td>\n",
       "      <td>3.288612</td>\n",
       "      <td>1.613563</td>\n",
       "      <td>2.073323</td>\n",
       "      <td>0.923006</td>\n",
       "      <td>3.257961</td>\n",
       "      <td>...</td>\n",
       "      <td>1.272460</td>\n",
       "      <td>1.855098</td>\n",
       "      <td>0.003395</td>\n",
       "      <td>21.331009</td>\n",
       "      <td>0.884112</td>\n",
       "      <td>21.331009</td>\n",
       "      <td>7.694232e-17</td>\n",
       "      <td>21.355180</td>\n",
       "      <td>0.884580</td>\n",
       "      <td>0.002365</td>\n",
       "    </tr>\n",
       "    <tr>\n",
       "      <td>std</td>\n",
       "      <td>10.481928</td>\n",
       "      <td>8.718371</td>\n",
       "      <td>3.227830</td>\n",
       "      <td>5.944709</td>\n",
       "      <td>1.493518</td>\n",
       "      <td>2.989877</td>\n",
       "      <td>2.288597</td>\n",
       "      <td>2.753126</td>\n",
       "      <td>1.306836</td>\n",
       "      <td>2.735761</td>\n",
       "      <td>...</td>\n",
       "      <td>1.407842</td>\n",
       "      <td>1.448587</td>\n",
       "      <td>11.330872</td>\n",
       "      <td>14.574311</td>\n",
       "      <td>0.442311</td>\n",
       "      <td>11.535865</td>\n",
       "      <td>8.906983e+00</td>\n",
       "      <td>2.427950</td>\n",
       "      <td>0.100518</td>\n",
       "      <td>1.225560</td>\n",
       "    </tr>\n",
       "    <tr>\n",
       "      <td>min</td>\n",
       "      <td>1.000000</td>\n",
       "      <td>0.000000</td>\n",
       "      <td>0.000000</td>\n",
       "      <td>0.000000</td>\n",
       "      <td>0.000000</td>\n",
       "      <td>0.000000</td>\n",
       "      <td>0.000000</td>\n",
       "      <td>0.000000</td>\n",
       "      <td>0.000000</td>\n",
       "      <td>0.000000</td>\n",
       "      <td>...</td>\n",
       "      <td>0.000000</td>\n",
       "      <td>0.000000</td>\n",
       "      <td>-41.000000</td>\n",
       "      <td>-2.300000</td>\n",
       "      <td>-1.000000</td>\n",
       "      <td>-2.300000</td>\n",
       "      <td>-3.637241e+01</td>\n",
       "      <td>15.921875</td>\n",
       "      <td>0.688095</td>\n",
       "      <td>-3.298833</td>\n",
       "    </tr>\n",
       "    <tr>\n",
       "      <td>25%</td>\n",
       "      <td>16.000000</td>\n",
       "      <td>4.000000</td>\n",
       "      <td>1.000000</td>\n",
       "      <td>4.000000</td>\n",
       "      <td>0.000000</td>\n",
       "      <td>1.000000</td>\n",
       "      <td>0.000000</td>\n",
       "      <td>0.000000</td>\n",
       "      <td>0.000000</td>\n",
       "      <td>1.000000</td>\n",
       "      <td>...</td>\n",
       "      <td>0.000000</td>\n",
       "      <td>1.000000</td>\n",
       "      <td>-7.000000</td>\n",
       "      <td>10.200000</td>\n",
       "      <td>0.600000</td>\n",
       "      <td>12.606667</td>\n",
       "      <td>-5.887879e+00</td>\n",
       "      <td>19.481308</td>\n",
       "      <td>0.804061</td>\n",
       "      <td>-0.840105</td>\n",
       "    </tr>\n",
       "    <tr>\n",
       "      <td>50%</td>\n",
       "      <td>24.000000</td>\n",
       "      <td>9.000000</td>\n",
       "      <td>3.000000</td>\n",
       "      <td>7.000000</td>\n",
       "      <td>1.000000</td>\n",
       "      <td>3.000000</td>\n",
       "      <td>1.000000</td>\n",
       "      <td>1.000000</td>\n",
       "      <td>0.000000</td>\n",
       "      <td>3.000000</td>\n",
       "      <td>...</td>\n",
       "      <td>1.000000</td>\n",
       "      <td>2.000000</td>\n",
       "      <td>0.000000</td>\n",
       "      <td>19.200000</td>\n",
       "      <td>0.869697</td>\n",
       "      <td>20.057143</td>\n",
       "      <td>-6.466667e-01</td>\n",
       "      <td>20.620548</td>\n",
       "      <td>0.864926</td>\n",
       "      <td>0.018700</td>\n",
       "    </tr>\n",
       "    <tr>\n",
       "      <td>75%</td>\n",
       "      <td>31.000000</td>\n",
       "      <td>15.000000</td>\n",
       "      <td>6.000000</td>\n",
       "      <td>12.000000</td>\n",
       "      <td>2.000000</td>\n",
       "      <td>5.000000</td>\n",
       "      <td>2.000000</td>\n",
       "      <td>3.000000</td>\n",
       "      <td>1.000000</td>\n",
       "      <td>5.000000</td>\n",
       "      <td>...</td>\n",
       "      <td>2.000000</td>\n",
       "      <td>3.000000</td>\n",
       "      <td>7.000000</td>\n",
       "      <td>30.300000</td>\n",
       "      <td>1.146875</td>\n",
       "      <td>28.071429</td>\n",
       "      <td>5.445455e+00</td>\n",
       "      <td>23.275714</td>\n",
       "      <td>0.949098</td>\n",
       "      <td>0.787390</td>\n",
       "    </tr>\n",
       "    <tr>\n",
       "      <td>max</td>\n",
       "      <td>51.000000</td>\n",
       "      <td>62.000000</td>\n",
       "      <td>21.000000</td>\n",
       "      <td>37.000000</td>\n",
       "      <td>11.000000</td>\n",
       "      <td>21.000000</td>\n",
       "      <td>19.000000</td>\n",
       "      <td>24.000000</td>\n",
       "      <td>12.000000</td>\n",
       "      <td>19.000000</td>\n",
       "      <td>...</td>\n",
       "      <td>10.000000</td>\n",
       "      <td>6.000000</td>\n",
       "      <td>40.000000</td>\n",
       "      <td>93.900000</td>\n",
       "      <td>5.400000</td>\n",
       "      <td>57.328571</td>\n",
       "      <td>4.627500e+01</td>\n",
       "      <td>27.155556</td>\n",
       "      <td>1.155864</td>\n",
       "      <td>3.154137</td>\n",
       "    </tr>\n",
       "  </tbody>\n",
       "</table>\n",
       "<p>8 rows × 24 columns</p>\n",
       "</div>"
      ],
      "text/plain": [
       "                MIN           PTS           FGM           FGA           3PM  \\\n",
       "count  10897.000000  10897.000000  10897.000000  10897.000000  10897.000000   \n",
       "mean      22.795540     10.571258      3.872993      8.337341      1.211710   \n",
       "std       10.481928      8.718371      3.227830      5.944709      1.493518   \n",
       "min        1.000000      0.000000      0.000000      0.000000      0.000000   \n",
       "25%       16.000000      4.000000      1.000000      4.000000      0.000000   \n",
       "50%       24.000000      9.000000      3.000000      7.000000      1.000000   \n",
       "75%       31.000000     15.000000      6.000000     12.000000      2.000000   \n",
       "max       51.000000     62.000000     21.000000     37.000000     11.000000   \n",
       "\n",
       "                3PA           FTM           FTA          OREB          DREB  \\\n",
       "count  10897.000000  10897.000000  10897.000000  10897.000000  10897.000000   \n",
       "mean       3.288612      1.613563      2.073323      0.923006      3.257961   \n",
       "std        2.989877      2.288597      2.753126      1.306836      2.735761   \n",
       "min        0.000000      0.000000      0.000000      0.000000      0.000000   \n",
       "25%        1.000000      0.000000      0.000000      0.000000      1.000000   \n",
       "50%        3.000000      1.000000      1.000000      0.000000      3.000000   \n",
       "75%        5.000000      2.000000      3.000000      1.000000      5.000000   \n",
       "max       21.000000     19.000000     24.000000     12.000000     19.000000   \n",
       "\n",
       "       ...           TOV            PF           +/-          FPTS  \\\n",
       "count  ...  10897.000000  10897.000000  10897.000000  10897.000000   \n",
       "mean   ...      1.272460      1.855098      0.003395     21.331009   \n",
       "std    ...      1.407842      1.448587     11.330872     14.574311   \n",
       "min    ...      0.000000      0.000000    -41.000000     -2.300000   \n",
       "25%    ...      0.000000      1.000000     -7.000000     10.200000   \n",
       "50%    ...      1.000000      2.000000      0.000000     19.200000   \n",
       "75%    ...      2.000000      3.000000      7.000000     30.300000   \n",
       "max    ...     10.000000      6.000000     40.000000     93.900000   \n",
       "\n",
       "           FPTS/MIN      AVG_FPTS      PTS_DIFF  OPP_POS_FPTS  \\\n",
       "count  10897.000000  10897.000000  1.089700e+04  10897.000000   \n",
       "mean       0.884112     21.331009  7.694232e-17     21.355180   \n",
       "std        0.442311     11.535865  8.906983e+00      2.427950   \n",
       "min       -1.000000     -2.300000 -3.637241e+01     15.921875   \n",
       "25%        0.600000     12.606667 -5.887879e+00     19.481308   \n",
       "50%        0.869697     20.057143 -6.466667e-01     20.620548   \n",
       "75%        1.146875     28.071429  5.445455e+00     23.275714   \n",
       "max        5.400000     57.328571  4.627500e+01     27.155556   \n",
       "\n",
       "       OPP_POS_FPTS/MIN  OPP_PTS_DIFF  \n",
       "count      10897.000000  10897.000000  \n",
       "mean           0.884580      0.002365  \n",
       "std            0.100518      1.225560  \n",
       "min            0.688095     -3.298833  \n",
       "25%            0.804061     -0.840105  \n",
       "50%            0.864926      0.018700  \n",
       "75%            0.949098      0.787390  \n",
       "max            1.155864      3.154137  \n",
       "\n",
       "[8 rows x 24 columns]"
      ]
     },
     "execution_count": 11,
     "metadata": {},
     "output_type": "execute_result"
    }
   ],
   "source": [
    "file = (r'C:\\Users\\zacha\\OneDrive\\Documents\\NBA_Data_2021.xlsx')\n",
    "df = pd.read_excel(file, sheet_name = 0, header=0)\n",
    "df.describe()"
   ]
  },
  {
   "cell_type": "markdown",
   "metadata": {},
   "source": [
    "### Merge DataFrames to Add Averages for Comparison"
   ]
  },
  {
   "cell_type": "code",
   "execution_count": 12,
   "metadata": {},
   "outputs": [],
   "source": [
    "df2 = df.where(df['AVG_FPTS']>10)"
   ]
  },
  {
   "cell_type": "code",
   "execution_count": 13,
   "metadata": {},
   "outputs": [
    {
     "data": {
      "text/plain": [
       "<matplotlib.axes._subplots.AxesSubplot at 0x24588755f48>"
      ]
     },
     "execution_count": 13,
     "metadata": {},
     "output_type": "execute_result"
    },
    {
     "data": {
      "image/png": "[encoded data removed]",
      "text/plain": [
       "<Figure size 432x288 with 1 Axes>"
      ]
     },
     "metadata": {
      "needs_background": "light"
     },
     "output_type": "display_data"
    }
   ],
   "source": [
    "df2.groupby(\"POSITION\")[\"FPTS/MIN\"].mean().sort_values(ascending = False).plot(kind = \"bar\", sort_columns = True)"
   ]
  },
  {
   "cell_type": "code",
   "execution_count": 14,
   "metadata": {},
   "outputs": [
    {
     "data": {
      "text/plain": [
       "<matplotlib.axes._subplots.AxesSubplot at 0x2458888a348>"
      ]
     },
     "execution_count": 14,
     "metadata": {},
     "output_type": "execute_result"
    },
    {
     "data": {
      "image/png": "[encoded data removed]",
      "text/plain": [
       "<Figure size 432x288 with 1 Axes>"
      ]
     },
     "metadata": {
      "needs_background": "light"
     },
     "output_type": "display_data"
    }
   ],
   "source": [
    "df2.groupby(\"POSITION\")[\"AVG_FPTS\"].mean().sort_values(ascending = False).plot(kind = \"bar\", sort_columns = True)"
   ]
  },
  {
   "cell_type": "code",
   "execution_count": 15,
   "metadata": {},
   "outputs": [],
   "source": [
    "pg = df.where(df['POSITION']=='PG')\n",
    "sg = df.where(df['POSITION']=='SG')\n",
    "sf = df.where(df['POSITION']=='SF')\n",
    "pf = df.where(df['POSITION']=='PF')\n",
    "c = df.where(df['POSITION']=='C')"
   ]
  },
  {
   "cell_type": "code",
   "execution_count": 16,
   "metadata": {},
   "outputs": [
    {
     "data": {
      "image/png": "[encoded data removed]",
      "text/plain": [
       "<Figure size 432x288 with 1 Axes>"
      ]
     },
     "metadata": {
      "needs_background": "light"
     },
     "output_type": "display_data"
    },
    {
     "data": {
      "image/png": "[encoded data removed]",
      "text/plain": [
       "<Figure size 432x288 with 1 Axes>"
      ]
     },
     "metadata": {
      "needs_background": "light"
     },
     "output_type": "display_data"
    },
    {
     "data": {
      "image/png": "[encoded data removed]",
      "text/plain": [
       "<Figure size 432x288 with 1 Axes>"
      ]
     },
     "metadata": {
      "needs_background": "light"
     },
     "output_type": "display_data"
    },
    {
     "data": {
      "image/png": "[encoded data removed]",
      "text/plain": [
       "<Figure size 432x288 with 1 Axes>"
      ]
     },
     "metadata": {
      "needs_background": "light"
     },
     "output_type": "display_data"
    },
    {
     "data": {
      "image/png": "[encoded data removed]",
      "text/plain": [
       "<Figure size 432x288 with 1 Axes>"
      ]
     },
     "metadata": {
      "needs_background": "light"
     },
     "output_type": "display_data"
    }
   ],
   "source": [
    "pg = df.where(df['POSITION']=='PG')\n",
    "sg = df.where(df['POSITION']=='SG')\n",
    "sf = df.where(df['POSITION']=='SF')\n",
    "pf = df.where(df['POSITION']=='PF')\n",
    "c = df.where(df['POSITION']=='C')\n",
    "pg.groupby(\"OPP\")['PTS_DIFF'].mean().sort_values(ascending = False).plot(kind = 'bar', title = 'Point Guard')\n",
    "plt.show()\n",
    "sg.groupby(\"OPP\")['PTS_DIFF'].mean().sort_values(ascending = False).plot(kind = 'bar', title = 'Shooting Guard')\n",
    "plt.show()\n",
    "sf.groupby(\"OPP\")['PTS_DIFF'].mean().sort_values(ascending = False).plot(kind = 'bar', title = 'Small Forward')\n",
    "plt.show()\n",
    "pf.groupby(\"OPP\")['PTS_DIFF'].mean().sort_values(ascending = False).plot(kind = 'bar', title = 'Power Forward')\n",
    "plt.show()\n",
    "c.groupby(\"OPP\")['PTS_DIFF'].mean().sort_values(ascending = False).plot(kind = 'bar', title = 'Center')\n",
    "plt.show()"
   ]
  },
  {
   "cell_type": "code",
   "execution_count": 17,
   "metadata": {},
   "outputs": [
    {
     "data": {
      "image/png": "[encoded data removed]",
      "text/plain": [
       "<Figure size 432x288 with 1 Axes>"
      ]
     },
     "metadata": {
      "needs_background": "light"
     },
     "output_type": "display_data"
    },
    {
     "data": {
      "image/png": "[encoded data removed]",
      "text/plain": [
       "<Figure size 432x288 with 1 Axes>"
      ]
     },
     "metadata": {
      "needs_background": "light"
     },
     "output_type": "display_data"
    },
    {
     "data": {
      "image/png": "[encoded data removed]",
      "text/plain": [
       "<Figure size 432x288 with 1 Axes>"
      ]
     },
     "metadata": {
      "needs_background": "light"
     },
     "output_type": "display_data"
    },
    {
     "data": {
      "image/png": "[encoded data removed]",
      "text/plain": [
       "<Figure size 432x288 with 1 Axes>"
      ]
     },
     "metadata": {
      "needs_background": "light"
     },
     "output_type": "display_data"
    },
    {
     "data": {
      "image/png": "[encoded data removed]",
      "text/plain": [
       "<Figure size 432x288 with 1 Axes>"
      ]
     },
     "metadata": {
      "needs_background": "light"
     },
     "output_type": "display_data"
    }
   ],
   "source": [
    "pg.groupby(\"OPP\")['FPTS'].mean().sort_values(ascending = False).plot(kind = 'bar', title = 'Point Guard')\n",
    "plt.show()\n",
    "sg.groupby(\"OPP\")['FPTS'].mean().sort_values(ascending = False).plot(kind = 'bar', title = 'Shooting Guard')\n",
    "plt.show()\n",
    "sf.groupby(\"OPP\")['FPTS'].mean().sort_values(ascending = False).plot(kind = 'bar', title = 'Small Forward')\n",
    "plt.show()\n",
    "pf.groupby(\"OPP\")['FPTS'].mean().sort_values(ascending = False).plot(kind = 'bar', title = 'Power Forward')\n",
    "plt.show()\n",
    "c.groupby(\"OPP\")['FPTS'].mean().sort_values(ascending = False).plot(kind = 'bar', title = 'Center')\n",
    "plt.show()"
   ]
  },
  {
   "cell_type": "code",
   "execution_count": 18,
   "metadata": {},
   "outputs": [
    {
     "data": {
      "image/png": "[encoded data removed]",
      "text/plain": [
       "<Figure size 432x288 with 1 Axes>"
      ]
     },
     "metadata": {
      "needs_background": "light"
     },
     "output_type": "display_data"
    },
    {
     "data": {
      "image/png": "[encoded data removed]",
      "text/plain": [
       "<Figure size 432x288 with 1 Axes>"
      ]
     },
     "metadata": {
      "needs_background": "light"
     },
     "output_type": "display_data"
    }
   ],
   "source": [
    "df.groupby(\"OPP\")['PTS_DIFF'].mean().sort_values(ascending = False).plot(kind = 'bar', title = 'Overall')\n",
    "plt.show()\n",
    "df2.groupby(\"OPP\")['PTS_DIFF'].mean().sort_values(ascending = False).plot(kind = 'bar', title = 'Overall > 10')\n",
    "plt.show()"
   ]
  },
  {
   "cell_type": "code",
   "execution_count": 19,
   "metadata": {},
   "outputs": [
    {
     "data": {
      "text/plain": [
       "<matplotlib.axes._subplots.AxesSubplot at 0x245891f5488>"
      ]
     },
     "execution_count": 19,
     "metadata": {},
     "output_type": "execute_result"
    },
    {
     "data": {
      "image/png": "[encoded data removed]",
      "text/plain": [
       "<Figure size 432x288 with 1 Axes>"
      ]
     },
     "metadata": {
      "needs_background": "light"
     },
     "output_type": "display_data"
    }
   ],
   "source": [
    "df.groupby(\"H/A\")['PTS_DIFF'].mean().sort_values(ascending = False).plot(kind = 'bar', title = 'Home/Away')"
   ]
  },
  {
   "cell_type": "code",
   "execution_count": 20,
   "metadata": {},
   "outputs": [
    {
     "name": "stdout",
     "output_type": "stream",
     "text": [
      "2 8.2184286400769 153.19018668909243 0.28859060402684555\n",
      "3 8.698870512303353 157.06804849625527 0.3185941043083902\n",
      "4 8.946536016949166 160.2897220603812 0.3256578947368423\n",
      "5 9.097697793626006 162.9828562068201 0.32847198723836246\n",
      "6 9.21066189414386 164.983613197458 0.3377831715210356\n",
      "7 9.297319770013262 164.76989337208602 0.34183673469387754\n",
      "8 9.342387107329802 164.86739219977105 0.34071314193940805\n",
      "9 9.367345901487825 164.9403255501136 0.33816217797105896\n",
      "10 9.370301559282122 164.3712129008533 0.33523506289308186\n"
     ]
    }
   ],
   "source": [
    "for x in range(2,11):\n",
    "    forecast = df.groupby('PLAYER').rolling(x)['FPTS'].mean().reset_index(drop=True)\n",
    "    MAD = (forecast - df['FPTS']).abs()\n",
    "    MSD = (forecast - df['FPTS']).abs().pow(2)\n",
    "    MAPE = (((df['FPTS']- forecast)/df['FPTS']).abs())\n",
    "    print(x,MAD.mean(), MSD.mean(), MAPE.median())"
   ]
  },
  {
   "cell_type": "code",
   "execution_count": 21,
   "metadata": {},
   "outputs": [
    {
     "name": "stdout",
     "output_type": "stream",
     "text": [
      "2 14.541259021651989 341.25056936648065 0.5057602772340086\n",
      "3 14.228835978835955 326.118854389058 0.49704398797469196\n",
      "4 14.072106868012252 319.090291128213 0.48863636363636387\n",
      "5 13.920227514030058 313.2650639769441 0.4835365853658537\n",
      "6 13.930410980641042 312.5157376406053 0.48125130289764434\n",
      "7 13.88742372800877 310.7753721598331 0.479235880398671\n",
      "8 13.834107766143124 307.91163298974647 0.47771476278212816\n",
      "9 13.81738979662608 306.7440696770451 0.47222222222222227\n",
      "10 13.736695668986867 303.1862091453984 0.47396525536358464\n"
     ]
    }
   ],
   "source": [
    "for x in range(2,11):\n",
    "    forecast = df2.groupby('PLAYER').rolling(x)['FPTS'].mean().reset_index(drop=True)\n",
    "    MAD = (forecast - df2['FPTS']).abs()\n",
    "    MSD = (forecast - df2['FPTS']).abs().pow(2)\n",
    "    MAPE = (((df2['FPTS']- forecast)/df2['FPTS']).abs())\n",
    "    print(x,MAD.mean(), MSD.mean(), MAPE.median())"
   ]
  },
  {
   "cell_type": "code",
   "execution_count": 22,
   "metadata": {},
   "outputs": [
    {
     "name": "stdout",
     "output_type": "stream",
     "text": [
      "2 8.229970122266657 152.91323836373317 0.29101612313001357\n",
      "3 8.67833931970253 156.46660416924107 0.31778684452814\n",
      "4 8.907392606708584 159.35467244613446 0.32448512402719437\n",
      "5 9.051755268501717 161.92591784383885 0.3293137991487973\n",
      "6 9.15354981124761 163.83066048015695 0.33522121027698687\n",
      "7 9.233830528803672 163.51667962933388 0.33542785098425604\n",
      "8 9.28887759477466 163.60037372945757 0.3386977964100601\n",
      "9 9.31601432969188 163.66340467961749 0.3365860411818339\n",
      "10 9.319547681449233 163.0949262604414 0.3340061458953267\n"
     ]
    }
   ],
   "source": [
    "tab = pd.DataFrame(columns = ['Forecast','MAD','ACC'])\n",
    "forecasts = ('MA2', 'MA3', 'MA4', 'MA5', 'MA6', 'MA7', 'MA8', 'MA9', 'MA10')\n",
    "tab['Forecast'] = forecasts\n",
    "\n",
    "for x in range(2,11):\n",
    "    forecast = ((df.groupby('PLAYER').rolling(x)['FPTS'].mean().reset_index(drop=True))+df['OPP_PTS_DIFF'])\n",
    "    MAD = (forecast - df['FPTS']).abs()\n",
    "    MSD = (forecast - df['FPTS']).abs().pow(2)\n",
    "    MAPE = (((df['FPTS']- forecast)/df['FPTS']).abs())\n",
    "    print(x,MAD.mean(), MSD.mean(), MAPE.median())"
   ]
  },
  {
   "cell_type": "code",
   "execution_count": 23,
   "metadata": {},
   "outputs": [
    {
     "name": "stdout",
     "output_type": "stream",
     "text": [
      "2 2.6249693076568126 12.079263311300448 0.1151798118728595\n",
      "3 3.722187589327937 24.215862429297285 0.16221177996257963\n",
      "4 4.330478412144739 32.72638544622812 0.18760673624288438\n",
      "5 4.715681538879975 38.80005913271276 0.20266214502251734\n",
      "6 4.9805816520917405 43.2987826152066 0.2136889901333135\n",
      "7 5.175157403777559 46.744238121897034 0.22138466860881975\n",
      "8 5.323534145304521 49.45742264259201 0.2274632084253503\n",
      "9 5.440338072862717 51.6436677023275 0.23308179373753157\n",
      "10 5.534697939786064 53.43945536225198 0.23636777874888865\n"
     ]
    }
   ],
   "source": [
    "tab = pd.DataFrame(columns = ['Forecast','MAD','ACC'])\n",
    "forecasts = ('EMA2', 'EMA3', 'EMA4', 'EMA5', 'EMA6', 'EMA7', 'EMA8', 'EMA9', 'EMA10')\n",
    "tab['Forecast'] = forecasts\n",
    "\n",
    "for k in range(2,11):\n",
    "    forecast = (df.groupby(['PLAYER'])['FPTS'].transform(lambda x: x.ewm(span=k).mean()))\n",
    "    MAD = (forecast - df['FPTS']).abs()\n",
    "    MSD = (forecast - df['FPTS']).abs().pow(2)\n",
    "    MAPE = (((df['FPTS']- forecast)/df['FPTS']).abs())\n",
    "    print(k, MAD.mean(), MSD.mean(), MAPE.median())"
   ]
  },
  {
   "cell_type": "code",
   "execution_count": 24,
   "metadata": {},
   "outputs": [
    {
     "name": "stdout",
     "output_type": "stream",
     "text": [
      "2 2.7490532772406526 12.654474587308032 0.12147569401483367\n",
      "3 3.7844119483635286 24.306646747885043 0.16725448716820296\n",
      "4 4.368204089984179 32.52343672468328 0.19329790683217854\n",
      "5 4.740070261630076 38.40309306033143 0.20891244656086427\n",
      "6 4.9970168107235375 42.76585800013133 0.2199590143656886\n",
      "7 5.185682711860523 46.111762679229265 0.22672153549074162\n",
      "8 5.330069890920164 48.74953743878473 0.2317955336295165\n",
      "9 5.44395133773139 50.87709137083792 0.23613647807481947\n",
      "10 5.535900004480302 52.626174483206974 0.23902644411143656\n"
     ]
    }
   ],
   "source": [
    "tab = pd.DataFrame(columns = ['Forecast','MAD','ACC'])\n",
    "forecasts = ('EMA2', 'EMA3', 'EMA4', 'EMA5', 'EMA6', 'EMA7', 'EMA8', 'EMA9', 'EMA10')\n",
    "tab['Forecast'] = forecasts\n",
    "\n",
    "for k in range(2,11):\n",
    "    forecast = ((df.groupby(['PLAYER'])['FPTS'].transform(lambda x: x.ewm(span=k).mean()))+df['OPP_PTS_DIFF'])\n",
    "    MAD = (forecast - df['FPTS']).abs()\n",
    "    MSD = (forecast - df['FPTS']).abs().pow(2)\n",
    "    MAPE = (((df['FPTS']- forecast)/df['FPTS']).abs())\n",
    "    print(k,MAD.mean(), MSD.mean(), MAPE.median())"
   ]
  },
  {
   "cell_type": "code",
   "execution_count": 25,
   "metadata": {},
   "outputs": [
    {
     "data": {
      "text/plain": [
       "count    6798.000000\n",
       "mean       23.063253\n",
       "std        14.963120\n",
       "min       -13.791250\n",
       "25%        12.022933\n",
       "50%        21.277857\n",
       "75%        32.319026\n",
       "max        98.107586\n",
       "Name: MA10, dtype: float64"
      ]
     },
     "execution_count": 25,
     "metadata": {},
     "output_type": "execute_result"
    }
   ],
   "source": [
    "df['MA10'] = df.groupby('PLAYER').rolling(10)['FPTS'].mean().reset_index(drop=True)+df['PTS_DIFF']\n",
    "df['MA10'].describe()"
   ]
  },
  {
   "cell_type": "code",
   "execution_count": 26,
   "metadata": {},
   "outputs": [
    {
     "data": {
      "text/plain": [
       "count    10897.000000\n",
       "mean         2.749053\n",
       "std          2.257797\n",
       "min          0.000613\n",
       "25%          1.004238\n",
       "50%          2.175883\n",
       "75%          3.928820\n",
       "max         17.303737\n",
       "Name: EMA2_DIFF, dtype: float64"
      ]
     },
     "execution_count": 26,
     "metadata": {},
     "output_type": "execute_result"
    }
   ],
   "source": [
    "df['EMA2'] = ((df.groupby(['PLAYER'])['FPTS'].transform(lambda x: x.ewm(span=2).mean()))+df['OPP_PTS_DIFF'])\n",
    "df['EMA2_DIFF']= (df['EMA2']-df['FPTS']).abs()\n",
    "df['EMA2_DIFF'].describe()"
   ]
  },
  {
   "cell_type": "code",
   "execution_count": 27,
   "metadata": {},
   "outputs": [
    {
     "data": {
      "text/html": [
       "<div>\n",
       "<style scoped>\n",
       "    .dataframe tbody tr th:only-of-type {\n",
       "        vertical-align: middle;\n",
       "    }\n",
       "\n",
       "    .dataframe tbody tr th {\n",
       "        vertical-align: top;\n",
       "    }\n",
       "\n",
       "    .dataframe thead th {\n",
       "        text-align: right;\n",
       "    }\n",
       "</style>\n",
       "<table border=\"1\" class=\"dataframe\">\n",
       "  <thead>\n",
       "    <tr style=\"text-align: right;\">\n",
       "      <th></th>\n",
       "      <th>PLAYER</th>\n",
       "      <th>TEAM</th>\n",
       "      <th>OPP</th>\n",
       "      <th>H/A</th>\n",
       "      <th>GAME DATE</th>\n",
       "      <th>W/L</th>\n",
       "      <th>MIN</th>\n",
       "      <th>PTS</th>\n",
       "      <th>FGM</th>\n",
       "      <th>FGA</th>\n",
       "      <th>...</th>\n",
       "      <th>AVG_FPTS</th>\n",
       "      <th>PTS_DIFF</th>\n",
       "      <th>POSITION</th>\n",
       "      <th>OPP_POS</th>\n",
       "      <th>OPP_POS_FPTS</th>\n",
       "      <th>OPP_POS_FPTS/MIN</th>\n",
       "      <th>OPP_PTS_DIFF</th>\n",
       "      <th>MA10</th>\n",
       "      <th>EMA2</th>\n",
       "      <th>EMA2_DIFF</th>\n",
       "    </tr>\n",
       "  </thead>\n",
       "  <tbody>\n",
       "    <tr>\n",
       "      <td>0</td>\n",
       "      <td>Aaron Gordon</td>\n",
       "      <td>ORL</td>\n",
       "      <td>MIA</td>\n",
       "      <td>Home</td>\n",
       "      <td>2020-12-23</td>\n",
       "      <td>W</td>\n",
       "      <td>26</td>\n",
       "      <td>20</td>\n",
       "      <td>8</td>\n",
       "      <td>11</td>\n",
       "      <td>...</td>\n",
       "      <td>30.705263</td>\n",
       "      <td>7.694737</td>\n",
       "      <td>PF</td>\n",
       "      <td>MIA-PF</td>\n",
       "      <td>22.396774</td>\n",
       "      <td>0.996979</td>\n",
       "      <td>-0.478785</td>\n",
       "      <td>NaN</td>\n",
       "      <td>37.921215</td>\n",
       "      <td>0.478785</td>\n",
       "    </tr>\n",
       "    <tr>\n",
       "      <td>1</td>\n",
       "      <td>Aaron Gordon</td>\n",
       "      <td>ORL</td>\n",
       "      <td>WAS</td>\n",
       "      <td>Away</td>\n",
       "      <td>2020-12-26</td>\n",
       "      <td>W</td>\n",
       "      <td>30</td>\n",
       "      <td>15</td>\n",
       "      <td>6</td>\n",
       "      <td>12</td>\n",
       "      <td>...</td>\n",
       "      <td>30.705263</td>\n",
       "      <td>-0.405263</td>\n",
       "      <td>PF</td>\n",
       "      <td>WAS-PF</td>\n",
       "      <td>20.168116</td>\n",
       "      <td>0.895299</td>\n",
       "      <td>-0.498013</td>\n",
       "      <td>NaN</td>\n",
       "      <td>31.826987</td>\n",
       "      <td>1.526987</td>\n",
       "    </tr>\n",
       "    <tr>\n",
       "      <td>2</td>\n",
       "      <td>Aaron Gordon</td>\n",
       "      <td>ORL</td>\n",
       "      <td>WAS</td>\n",
       "      <td>Away</td>\n",
       "      <td>2020-12-27</td>\n",
       "      <td>W</td>\n",
       "      <td>20</td>\n",
       "      <td>4</td>\n",
       "      <td>1</td>\n",
       "      <td>4</td>\n",
       "      <td>...</td>\n",
       "      <td>30.705263</td>\n",
       "      <td>-19.505263</td>\n",
       "      <td>PF</td>\n",
       "      <td>WAS-PF</td>\n",
       "      <td>20.168116</td>\n",
       "      <td>0.895299</td>\n",
       "      <td>-0.498013</td>\n",
       "      <td>NaN</td>\n",
       "      <td>17.201987</td>\n",
       "      <td>6.001987</td>\n",
       "    </tr>\n",
       "    <tr>\n",
       "      <td>3</td>\n",
       "      <td>Aaron Gordon</td>\n",
       "      <td>ORL</td>\n",
       "      <td>OKC</td>\n",
       "      <td>Away</td>\n",
       "      <td>2020-12-29</td>\n",
       "      <td>W</td>\n",
       "      <td>22</td>\n",
       "      <td>12</td>\n",
       "      <td>5</td>\n",
       "      <td>10</td>\n",
       "      <td>...</td>\n",
       "      <td>30.705263</td>\n",
       "      <td>-6.705263</td>\n",
       "      <td>PF</td>\n",
       "      <td>OKC-PF</td>\n",
       "      <td>23.250725</td>\n",
       "      <td>0.946417</td>\n",
       "      <td>2.186658</td>\n",
       "      <td>NaN</td>\n",
       "      <td>24.139158</td>\n",
       "      <td>0.139158</td>\n",
       "    </tr>\n",
       "    <tr>\n",
       "      <td>4</td>\n",
       "      <td>Aaron Gordon</td>\n",
       "      <td>ORL</td>\n",
       "      <td>PHI</td>\n",
       "      <td>Home</td>\n",
       "      <td>2020-12-31</td>\n",
       "      <td>L</td>\n",
       "      <td>21</td>\n",
       "      <td>6</td>\n",
       "      <td>1</td>\n",
       "      <td>8</td>\n",
       "      <td>...</td>\n",
       "      <td>30.705263</td>\n",
       "      <td>-15.605263</td>\n",
       "      <td>PF</td>\n",
       "      <td>PHI-PF</td>\n",
       "      <td>19.431884</td>\n",
       "      <td>0.831993</td>\n",
       "      <td>-1.426305</td>\n",
       "      <td>NaN</td>\n",
       "      <td>15.938985</td>\n",
       "      <td>0.838985</td>\n",
       "    </tr>\n",
       "    <tr>\n",
       "      <td>5</td>\n",
       "      <td>Aaron Gordon</td>\n",
       "      <td>ORL</td>\n",
       "      <td>OKC</td>\n",
       "      <td>Home</td>\n",
       "      <td>2021-01-02</td>\n",
       "      <td>L</td>\n",
       "      <td>28</td>\n",
       "      <td>15</td>\n",
       "      <td>6</td>\n",
       "      <td>15</td>\n",
       "      <td>...</td>\n",
       "      <td>30.705263</td>\n",
       "      <td>1.394737</td>\n",
       "      <td>PF</td>\n",
       "      <td>OKC-PF</td>\n",
       "      <td>23.250725</td>\n",
       "      <td>0.946417</td>\n",
       "      <td>2.186658</td>\n",
       "      <td>NaN</td>\n",
       "      <td>29.388581</td>\n",
       "      <td>2.711419</td>\n",
       "    </tr>\n",
       "    <tr>\n",
       "      <td>6</td>\n",
       "      <td>Aaron Gordon</td>\n",
       "      <td>ORL</td>\n",
       "      <td>CLE</td>\n",
       "      <td>Home</td>\n",
       "      <td>2021-01-04</td>\n",
       "      <td>W</td>\n",
       "      <td>28</td>\n",
       "      <td>24</td>\n",
       "      <td>9</td>\n",
       "      <td>17</td>\n",
       "      <td>...</td>\n",
       "      <td>30.705263</td>\n",
       "      <td>8.994737</td>\n",
       "      <td>PF</td>\n",
       "      <td>CLE-PF</td>\n",
       "      <td>22.928125</td>\n",
       "      <td>0.972503</td>\n",
       "      <td>1.386347</td>\n",
       "      <td>NaN</td>\n",
       "      <td>36.924132</td>\n",
       "      <td>2.775868</td>\n",
       "    </tr>\n",
       "    <tr>\n",
       "      <td>7</td>\n",
       "      <td>Aaron Gordon</td>\n",
       "      <td>ORL</td>\n",
       "      <td>CLE</td>\n",
       "      <td>Home</td>\n",
       "      <td>2021-01-06</td>\n",
       "      <td>W</td>\n",
       "      <td>27</td>\n",
       "      <td>15</td>\n",
       "      <td>5</td>\n",
       "      <td>7</td>\n",
       "      <td>...</td>\n",
       "      <td>30.705263</td>\n",
       "      <td>-0.605263</td>\n",
       "      <td>PF</td>\n",
       "      <td>CLE-PF</td>\n",
       "      <td>22.928125</td>\n",
       "      <td>0.972503</td>\n",
       "      <td>1.386347</td>\n",
       "      <td>NaN</td>\n",
       "      <td>33.298389</td>\n",
       "      <td>3.198389</td>\n",
       "    </tr>\n",
       "    <tr>\n",
       "      <td>8</td>\n",
       "      <td>Aaron Gordon</td>\n",
       "      <td>ORL</td>\n",
       "      <td>DAL</td>\n",
       "      <td>Away</td>\n",
       "      <td>2021-01-09</td>\n",
       "      <td>L</td>\n",
       "      <td>36</td>\n",
       "      <td>16</td>\n",
       "      <td>6</td>\n",
       "      <td>16</td>\n",
       "      <td>...</td>\n",
       "      <td>30.705263</td>\n",
       "      <td>1.594737</td>\n",
       "      <td>PF</td>\n",
       "      <td>DAL-PF</td>\n",
       "      <td>23.598276</td>\n",
       "      <td>0.954652</td>\n",
       "      <td>1.751134</td>\n",
       "      <td>NaN</td>\n",
       "      <td>33.921828</td>\n",
       "      <td>1.621828</td>\n",
       "    </tr>\n",
       "    <tr>\n",
       "      <td>9</td>\n",
       "      <td>Aaron Gordon</td>\n",
       "      <td>ORL</td>\n",
       "      <td>MIL</td>\n",
       "      <td>Home</td>\n",
       "      <td>2021-01-11</td>\n",
       "      <td>L</td>\n",
       "      <td>35</td>\n",
       "      <td>21</td>\n",
       "      <td>8</td>\n",
       "      <td>14</td>\n",
       "      <td>...</td>\n",
       "      <td>30.705263</td>\n",
       "      <td>13.294737</td>\n",
       "      <td>PF</td>\n",
       "      <td>MIL-PF</td>\n",
       "      <td>22.452055</td>\n",
       "      <td>0.956974</td>\n",
       "      <td>-0.488812</td>\n",
       "      <td>43.014737</td>\n",
       "      <td>39.568220</td>\n",
       "      <td>4.431780</td>\n",
       "    </tr>\n",
       "  </tbody>\n",
       "</table>\n",
       "<p>10 rows × 38 columns</p>\n",
       "</div>"
      ],
      "text/plain": [
       "         PLAYER TEAM  OPP   H/A  GAME DATE W/L  MIN  PTS  FGM  FGA  ...  \\\n",
       "0  Aaron Gordon  ORL  MIA  Home 2020-12-23   W   26   20    8   11  ...   \n",
       "1  Aaron Gordon  ORL  WAS  Away 2020-12-26   W   30   15    6   12  ...   \n",
       "2  Aaron Gordon  ORL  WAS  Away 2020-12-27   W   20    4    1    4  ...   \n",
       "3  Aaron Gordon  ORL  OKC  Away 2020-12-29   W   22   12    5   10  ...   \n",
       "4  Aaron Gordon  ORL  PHI  Home 2020-12-31   L   21    6    1    8  ...   \n",
       "5  Aaron Gordon  ORL  OKC  Home 2021-01-02   L   28   15    6   15  ...   \n",
       "6  Aaron Gordon  ORL  CLE  Home 2021-01-04   W   28   24    9   17  ...   \n",
       "7  Aaron Gordon  ORL  CLE  Home 2021-01-06   W   27   15    5    7  ...   \n",
       "8  Aaron Gordon  ORL  DAL  Away 2021-01-09   L   36   16    6   16  ...   \n",
       "9  Aaron Gordon  ORL  MIL  Home 2021-01-11   L   35   21    8   14  ...   \n",
       "\n",
       "    AVG_FPTS   PTS_DIFF  POSITION OPP_POS  OPP_POS_FPTS  OPP_POS_FPTS/MIN  \\\n",
       "0  30.705263   7.694737        PF  MIA-PF     22.396774          0.996979   \n",
       "1  30.705263  -0.405263        PF  WAS-PF     20.168116          0.895299   \n",
       "2  30.705263 -19.505263        PF  WAS-PF     20.168116          0.895299   \n",
       "3  30.705263  -6.705263        PF  OKC-PF     23.250725          0.946417   \n",
       "4  30.705263 -15.605263        PF  PHI-PF     19.431884          0.831993   \n",
       "5  30.705263   1.394737        PF  OKC-PF     23.250725          0.946417   \n",
       "6  30.705263   8.994737        PF  CLE-PF     22.928125          0.972503   \n",
       "7  30.705263  -0.605263        PF  CLE-PF     22.928125          0.972503   \n",
       "8  30.705263   1.594737        PF  DAL-PF     23.598276          0.954652   \n",
       "9  30.705263  13.294737        PF  MIL-PF     22.452055          0.956974   \n",
       "\n",
       "  OPP_PTS_DIFF       MA10       EMA2  EMA2_DIFF  \n",
       "0    -0.478785        NaN  37.921215   0.478785  \n",
       "1    -0.498013        NaN  31.826987   1.526987  \n",
       "2    -0.498013        NaN  17.201987   6.001987  \n",
       "3     2.186658        NaN  24.139158   0.139158  \n",
       "4    -1.426305        NaN  15.938985   0.838985  \n",
       "5     2.186658        NaN  29.388581   2.711419  \n",
       "6     1.386347        NaN  36.924132   2.775868  \n",
       "7     1.386347        NaN  33.298389   3.198389  \n",
       "8     1.751134        NaN  33.921828   1.621828  \n",
       "9    -0.488812  43.014737  39.568220   4.431780  \n",
       "\n",
       "[10 rows x 38 columns]"
      ]
     },
     "execution_count": 27,
     "metadata": {},
     "output_type": "execute_result"
    }
   ],
   "source": [
    "df.head(10)"
   ]
  },
  {
   "cell_type": "code",
   "execution_count": 28,
   "metadata": {},
   "outputs": [],
   "source": [
    "file = r'C:\\Users\\zacha\\OneDrive\\Documents\\NBA_Data_Analysis_2021.xlsx'\n",
    "writer = pd.ExcelWriter(file)\n",
    "df.to_excel(writer, sheet_name='Data')\n",
    "writer.save()"
   ]
  },
  {
   "cell_type": "code",
   "execution_count": 29,
   "metadata": {},
   "outputs": [],
   "source": [
    "#Retrieve data on Opponent defensive and pace stats\n",
    "#df['OPP_DEF_RTNG'] = preprocessing.scale(df['OPP_DEF_RTNG'])\n",
    "#df['OPP_PACE'] =  preprocessing.scale(df['OPP_PACE'])\n",
    "#df['OPP_PTS_PAINT'] =  preprocessing.scale(df['OPP_PTS_PAINT'])\n",
    "#df['H/A'] = df['H/A'].apply(HomeAway)\n",
    "#df['DAYS_REST'] = df['DAYS_REST'].apply(daysrest)\n",
    "#df['POSITION'] = df['POSITION'].apply(POS)\n",
    "#df['OPP_POS_FPTS_MIN'] = preprocessing.scale(df['OPP_POS_FPTS_MIN'])"
   ]
  },
  {
   "cell_type": "markdown",
   "metadata": {},
   "source": [
    "### Linear Regression"
   ]
  },
  {
   "cell_type": "code",
   "execution_count": 30,
   "metadata": {},
   "outputs": [
    {
     "name": "stderr",
     "output_type": "stream",
     "text": [
      "C:\\Users\\zacha\\Anaconda3\\lib\\site-packages\\pandas\\core\\indexing.py:1418: FutureWarning: \n",
      "Passing list-likes to .loc or [] with any missing label will raise\n",
      "KeyError in the future, you can use .reindex() as an alternative.\n",
      "\n",
      "See the documentation here:\n",
      "https://pandas.pydata.org/pandas-docs/stable/user_guide/indexing.html#deprecate-loc-reindex-listlike\n",
      "  return self._getitem_tuple(key)\n"
     ]
    },
    {
     "ename": "KeyError",
     "evalue": "'gg'",
     "output_type": "error",
     "traceback": [
      "\u001b[1;31m---------------------------------------------------------------------------\u001b[0m",
      "\u001b[1;31mKeyError\u001b[0m                                  Traceback (most recent call last)",
      "\u001b[1;32m~\\Anaconda3\\lib\\site-packages\\pandas\\core\\indexes\\base.py\u001b[0m in \u001b[0;36mget_loc\u001b[1;34m(self, key, method, tolerance)\u001b[0m\n\u001b[0;32m   2896\u001b[0m             \u001b[1;32mtry\u001b[0m\u001b[1;33m:\u001b[0m\u001b[1;33m\u001b[0m\u001b[1;33m\u001b[0m\u001b[0m\n\u001b[1;32m-> 2897\u001b[1;33m                 \u001b[1;32mreturn\u001b[0m \u001b[0mself\u001b[0m\u001b[1;33m.\u001b[0m\u001b[0m_engine\u001b[0m\u001b[1;33m.\u001b[0m\u001b[0mget_loc\u001b[0m\u001b[1;33m(\u001b[0m\u001b[0mkey\u001b[0m\u001b[1;33m)\u001b[0m\u001b[1;33m\u001b[0m\u001b[1;33m\u001b[0m\u001b[0m\n\u001b[0m\u001b[0;32m   2898\u001b[0m             \u001b[1;32mexcept\u001b[0m \u001b[0mKeyError\u001b[0m\u001b[1;33m:\u001b[0m\u001b[1;33m\u001b[0m\u001b[1;33m\u001b[0m\u001b[0m\n",
      "\u001b[1;32mpandas\\_libs\\index.pyx\u001b[0m in \u001b[0;36mpandas._libs.index.IndexEngine.get_loc\u001b[1;34m()\u001b[0m\n",
      "\u001b[1;32mpandas\\_libs\\index.pyx\u001b[0m in \u001b[0;36mpandas._libs.index.IndexEngine.get_loc\u001b[1;34m()\u001b[0m\n",
      "\u001b[1;32mpandas\\_libs\\hashtable_class_helper.pxi\u001b[0m in \u001b[0;36mpandas._libs.hashtable.PyObjectHashTable.get_item\u001b[1;34m()\u001b[0m\n",
      "\u001b[1;32mpandas\\_libs\\hashtable_class_helper.pxi\u001b[0m in \u001b[0;36mpandas._libs.hashtable.PyObjectHashTable.get_item\u001b[1;34m()\u001b[0m\n",
      "\u001b[1;31mKeyError\u001b[0m: 'gg'",
      "\nDuring handling of the above exception, another exception occurred:\n",
      "\u001b[1;31mKeyError\u001b[0m                                  Traceback (most recent call last)",
      "\u001b[1;32m<ipython-input-30-a8711ab4b39c>\u001b[0m in \u001b[0;36m<module>\u001b[1;34m\u001b[0m\n\u001b[0;32m      3\u001b[0m \u001b[0mtrain\u001b[0m\u001b[1;33m,\u001b[0m \u001b[0mtest\u001b[0m \u001b[1;33m=\u001b[0m \u001b[0mtrain_test_split\u001b[0m\u001b[1;33m(\u001b[0m\u001b[0mdf\u001b[0m\u001b[1;33m,\u001b[0m \u001b[0mtrain_size\u001b[0m \u001b[1;33m=\u001b[0m \u001b[1;36m0.7\u001b[0m\u001b[1;33m)\u001b[0m\u001b[1;33m\u001b[0m\u001b[1;33m\u001b[0m\u001b[0m\n\u001b[0;32m      4\u001b[0m \u001b[0mtrain_X\u001b[0m \u001b[1;33m=\u001b[0m \u001b[0mnp\u001b[0m\u001b[1;33m.\u001b[0m\u001b[0marray\u001b[0m\u001b[1;33m(\u001b[0m\u001b[0mtrain\u001b[0m\u001b[1;33m.\u001b[0m\u001b[0mloc\u001b[0m\u001b[1;33m[\u001b[0m\u001b[1;33m:\u001b[0m\u001b[1;33m,\u001b[0m \u001b[1;33m[\u001b[0m\u001b[1;34m'POSITION'\u001b[0m\u001b[1;33m,\u001b[0m \u001b[1;34m'OPP_POS_FPTS_MIN'\u001b[0m\u001b[1;33m,\u001b[0m\u001b[1;34m'OPP_DEF_RTNG'\u001b[0m\u001b[1;33m,\u001b[0m\u001b[1;34m'OPP_PACE'\u001b[0m\u001b[1;33m,\u001b[0m\u001b[1;34m'OPP_PTS_PAINT'\u001b[0m\u001b[1;33m,\u001b[0m\u001b[1;34m'H/A'\u001b[0m\u001b[1;33m,\u001b[0m\u001b[1;34m'DAYS_REST'\u001b[0m\u001b[1;33m]\u001b[0m\u001b[1;33m]\u001b[0m\u001b[1;33m)\u001b[0m\u001b[1;33m\u001b[0m\u001b[1;33m\u001b[0m\u001b[0m\n\u001b[1;32m----> 5\u001b[1;33m \u001b[0mtrain_y\u001b[0m \u001b[1;33m=\u001b[0m \u001b[0mnp\u001b[0m\u001b[1;33m.\u001b[0m\u001b[0marray\u001b[0m\u001b[1;33m(\u001b[0m\u001b[0mtrain\u001b[0m\u001b[1;33m.\u001b[0m\u001b[0mloc\u001b[0m\u001b[1;33m[\u001b[0m\u001b[1;33m:\u001b[0m\u001b[1;33m,\u001b[0m \u001b[1;34m'gg'\u001b[0m\u001b[1;33m]\u001b[0m\u001b[1;33m)\u001b[0m\u001b[1;33m\u001b[0m\u001b[1;33m\u001b[0m\u001b[0m\n\u001b[0m\u001b[0;32m      6\u001b[0m \u001b[0mtest_X\u001b[0m \u001b[1;33m=\u001b[0m \u001b[0mnp\u001b[0m\u001b[1;33m.\u001b[0m\u001b[0marray\u001b[0m\u001b[1;33m(\u001b[0m\u001b[0mtest\u001b[0m\u001b[1;33m.\u001b[0m\u001b[0mloc\u001b[0m\u001b[1;33m[\u001b[0m\u001b[1;33m:\u001b[0m\u001b[1;33m,\u001b[0m \u001b[1;33m[\u001b[0m\u001b[1;34m'POSITION'\u001b[0m\u001b[1;33m,\u001b[0m \u001b[1;34m'OPP_POS_FPTS_MIN'\u001b[0m\u001b[1;33m,\u001b[0m\u001b[1;34m'OPP_DEF_RTNG'\u001b[0m\u001b[1;33m,\u001b[0m\u001b[1;34m'OPP_PACE'\u001b[0m\u001b[1;33m,\u001b[0m\u001b[1;34m'OPP_PTS_PAINT'\u001b[0m\u001b[1;33m,\u001b[0m\u001b[1;34m'H/A'\u001b[0m\u001b[1;33m,\u001b[0m\u001b[1;34m'DAYS_REST'\u001b[0m\u001b[1;33m]\u001b[0m\u001b[1;33m]\u001b[0m\u001b[1;33m)\u001b[0m\u001b[1;33m\u001b[0m\u001b[1;33m\u001b[0m\u001b[0m\n\u001b[0;32m      7\u001b[0m \u001b[0mtest_y\u001b[0m \u001b[1;33m=\u001b[0m \u001b[0mnp\u001b[0m\u001b[1;33m.\u001b[0m\u001b[0marray\u001b[0m\u001b[1;33m(\u001b[0m\u001b[0mtest\u001b[0m\u001b[1;33m.\u001b[0m\u001b[0mloc\u001b[0m\u001b[1;33m[\u001b[0m\u001b[1;33m:\u001b[0m\u001b[1;33m,\u001b[0m \u001b[1;34m'gg'\u001b[0m\u001b[1;33m]\u001b[0m\u001b[1;33m)\u001b[0m\u001b[1;33m\u001b[0m\u001b[1;33m\u001b[0m\u001b[0m\n",
      "\u001b[1;32m~\\Anaconda3\\lib\\site-packages\\pandas\\core\\indexing.py\u001b[0m in \u001b[0;36m__getitem__\u001b[1;34m(self, key)\u001b[0m\n\u001b[0;32m   1416\u001b[0m                 \u001b[1;32mexcept\u001b[0m \u001b[1;33m(\u001b[0m\u001b[0mKeyError\u001b[0m\u001b[1;33m,\u001b[0m \u001b[0mIndexError\u001b[0m\u001b[1;33m,\u001b[0m \u001b[0mAttributeError\u001b[0m\u001b[1;33m)\u001b[0m\u001b[1;33m:\u001b[0m\u001b[1;33m\u001b[0m\u001b[1;33m\u001b[0m\u001b[0m\n\u001b[0;32m   1417\u001b[0m                     \u001b[1;32mpass\u001b[0m\u001b[1;33m\u001b[0m\u001b[1;33m\u001b[0m\u001b[0m\n\u001b[1;32m-> 1418\u001b[1;33m             \u001b[1;32mreturn\u001b[0m \u001b[0mself\u001b[0m\u001b[1;33m.\u001b[0m\u001b[0m_getitem_tuple\u001b[0m\u001b[1;33m(\u001b[0m\u001b[0mkey\u001b[0m\u001b[1;33m)\u001b[0m\u001b[1;33m\u001b[0m\u001b[1;33m\u001b[0m\u001b[0m\n\u001b[0m\u001b[0;32m   1419\u001b[0m         \u001b[1;32melse\u001b[0m\u001b[1;33m:\u001b[0m\u001b[1;33m\u001b[0m\u001b[1;33m\u001b[0m\u001b[0m\n\u001b[0;32m   1420\u001b[0m             \u001b[1;31m# we by definition only have the 0th axis\u001b[0m\u001b[1;33m\u001b[0m\u001b[1;33m\u001b[0m\u001b[1;33m\u001b[0m\u001b[0m\n",
      "\u001b[1;32m~\\Anaconda3\\lib\\site-packages\\pandas\\core\\indexing.py\u001b[0m in \u001b[0;36m_getitem_tuple\u001b[1;34m(self, tup)\u001b[0m\n\u001b[0;32m    803\u001b[0m     \u001b[1;32mdef\u001b[0m \u001b[0m_getitem_tuple\u001b[0m\u001b[1;33m(\u001b[0m\u001b[0mself\u001b[0m\u001b[1;33m,\u001b[0m \u001b[0mtup\u001b[0m\u001b[1;33m)\u001b[0m\u001b[1;33m:\u001b[0m\u001b[1;33m\u001b[0m\u001b[1;33m\u001b[0m\u001b[0m\n\u001b[0;32m    804\u001b[0m         \u001b[1;32mtry\u001b[0m\u001b[1;33m:\u001b[0m\u001b[1;33m\u001b[0m\u001b[1;33m\u001b[0m\u001b[0m\n\u001b[1;32m--> 805\u001b[1;33m             \u001b[1;32mreturn\u001b[0m \u001b[0mself\u001b[0m\u001b[1;33m.\u001b[0m\u001b[0m_getitem_lowerdim\u001b[0m\u001b[1;33m(\u001b[0m\u001b[0mtup\u001b[0m\u001b[1;33m)\u001b[0m\u001b[1;33m\u001b[0m\u001b[1;33m\u001b[0m\u001b[0m\n\u001b[0m\u001b[0;32m    806\u001b[0m         \u001b[1;32mexcept\u001b[0m \u001b[0mIndexingError\u001b[0m\u001b[1;33m:\u001b[0m\u001b[1;33m\u001b[0m\u001b[1;33m\u001b[0m\u001b[0m\n\u001b[0;32m    807\u001b[0m             \u001b[1;32mpass\u001b[0m\u001b[1;33m\u001b[0m\u001b[1;33m\u001b[0m\u001b[0m\n",
      "\u001b[1;32m~\\Anaconda3\\lib\\site-packages\\pandas\\core\\indexing.py\u001b[0m in \u001b[0;36m_getitem_lowerdim\u001b[1;34m(self, tup)\u001b[0m\n\u001b[0;32m    927\u001b[0m         \u001b[1;32mfor\u001b[0m \u001b[0mi\u001b[0m\u001b[1;33m,\u001b[0m \u001b[0mkey\u001b[0m \u001b[1;32min\u001b[0m \u001b[0menumerate\u001b[0m\u001b[1;33m(\u001b[0m\u001b[0mtup\u001b[0m\u001b[1;33m)\u001b[0m\u001b[1;33m:\u001b[0m\u001b[1;33m\u001b[0m\u001b[1;33m\u001b[0m\u001b[0m\n\u001b[0;32m    928\u001b[0m             \u001b[1;32mif\u001b[0m \u001b[0mis_label_like\u001b[0m\u001b[1;33m(\u001b[0m\u001b[0mkey\u001b[0m\u001b[1;33m)\u001b[0m \u001b[1;32mor\u001b[0m \u001b[0misinstance\u001b[0m\u001b[1;33m(\u001b[0m\u001b[0mkey\u001b[0m\u001b[1;33m,\u001b[0m \u001b[0mtuple\u001b[0m\u001b[1;33m)\u001b[0m\u001b[1;33m:\u001b[0m\u001b[1;33m\u001b[0m\u001b[1;33m\u001b[0m\u001b[0m\n\u001b[1;32m--> 929\u001b[1;33m                 \u001b[0msection\u001b[0m \u001b[1;33m=\u001b[0m \u001b[0mself\u001b[0m\u001b[1;33m.\u001b[0m\u001b[0m_getitem_axis\u001b[0m\u001b[1;33m(\u001b[0m\u001b[0mkey\u001b[0m\u001b[1;33m,\u001b[0m \u001b[0maxis\u001b[0m\u001b[1;33m=\u001b[0m\u001b[0mi\u001b[0m\u001b[1;33m)\u001b[0m\u001b[1;33m\u001b[0m\u001b[1;33m\u001b[0m\u001b[0m\n\u001b[0m\u001b[0;32m    930\u001b[0m \u001b[1;33m\u001b[0m\u001b[0m\n\u001b[0;32m    931\u001b[0m                 \u001b[1;31m# we have yielded a scalar ?\u001b[0m\u001b[1;33m\u001b[0m\u001b[1;33m\u001b[0m\u001b[1;33m\u001b[0m\u001b[0m\n",
      "\u001b[1;32m~\\Anaconda3\\lib\\site-packages\\pandas\\core\\indexing.py\u001b[0m in \u001b[0;36m_getitem_axis\u001b[1;34m(self, key, axis)\u001b[0m\n\u001b[0;32m   1848\u001b[0m         \u001b[1;31m# fall thru to straight lookup\u001b[0m\u001b[1;33m\u001b[0m\u001b[1;33m\u001b[0m\u001b[1;33m\u001b[0m\u001b[0m\n\u001b[0;32m   1849\u001b[0m         \u001b[0mself\u001b[0m\u001b[1;33m.\u001b[0m\u001b[0m_validate_key\u001b[0m\u001b[1;33m(\u001b[0m\u001b[0mkey\u001b[0m\u001b[1;33m,\u001b[0m \u001b[0maxis\u001b[0m\u001b[1;33m)\u001b[0m\u001b[1;33m\u001b[0m\u001b[1;33m\u001b[0m\u001b[0m\n\u001b[1;32m-> 1850\u001b[1;33m         \u001b[1;32mreturn\u001b[0m \u001b[0mself\u001b[0m\u001b[1;33m.\u001b[0m\u001b[0m_get_label\u001b[0m\u001b[1;33m(\u001b[0m\u001b[0mkey\u001b[0m\u001b[1;33m,\u001b[0m \u001b[0maxis\u001b[0m\u001b[1;33m=\u001b[0m\u001b[0maxis\u001b[0m\u001b[1;33m)\u001b[0m\u001b[1;33m\u001b[0m\u001b[1;33m\u001b[0m\u001b[0m\n\u001b[0m\u001b[0;32m   1851\u001b[0m \u001b[1;33m\u001b[0m\u001b[0m\n\u001b[0;32m   1852\u001b[0m \u001b[1;33m\u001b[0m\u001b[0m\n",
      "\u001b[1;32m~\\Anaconda3\\lib\\site-packages\\pandas\\core\\indexing.py\u001b[0m in \u001b[0;36m_get_label\u001b[1;34m(self, label, axis)\u001b[0m\n\u001b[0;32m    158\u001b[0m             \u001b[1;32mraise\u001b[0m \u001b[0mIndexingError\u001b[0m\u001b[1;33m(\u001b[0m\u001b[1;34m\"no slices here, handle elsewhere\"\u001b[0m\u001b[1;33m)\u001b[0m\u001b[1;33m\u001b[0m\u001b[1;33m\u001b[0m\u001b[0m\n\u001b[0;32m    159\u001b[0m \u001b[1;33m\u001b[0m\u001b[0m\n\u001b[1;32m--> 160\u001b[1;33m         \u001b[1;32mreturn\u001b[0m \u001b[0mself\u001b[0m\u001b[1;33m.\u001b[0m\u001b[0mobj\u001b[0m\u001b[1;33m.\u001b[0m\u001b[0m_xs\u001b[0m\u001b[1;33m(\u001b[0m\u001b[0mlabel\u001b[0m\u001b[1;33m,\u001b[0m \u001b[0maxis\u001b[0m\u001b[1;33m=\u001b[0m\u001b[0maxis\u001b[0m\u001b[1;33m)\u001b[0m\u001b[1;33m\u001b[0m\u001b[1;33m\u001b[0m\u001b[0m\n\u001b[0m\u001b[0;32m    161\u001b[0m \u001b[1;33m\u001b[0m\u001b[0m\n\u001b[0;32m    162\u001b[0m     \u001b[1;32mdef\u001b[0m \u001b[0m_get_loc\u001b[0m\u001b[1;33m(\u001b[0m\u001b[0mself\u001b[0m\u001b[1;33m,\u001b[0m \u001b[0mkey\u001b[0m\u001b[1;33m:\u001b[0m \u001b[0mint\u001b[0m\u001b[1;33m,\u001b[0m \u001b[0maxis\u001b[0m\u001b[1;33m:\u001b[0m \u001b[0mint\u001b[0m\u001b[1;33m)\u001b[0m\u001b[1;33m:\u001b[0m\u001b[1;33m\u001b[0m\u001b[1;33m\u001b[0m\u001b[0m\n",
      "\u001b[1;32m~\\Anaconda3\\lib\\site-packages\\pandas\\core\\generic.py\u001b[0m in \u001b[0;36mxs\u001b[1;34m(self, key, axis, level, drop_level)\u001b[0m\n\u001b[0;32m   3727\u001b[0m \u001b[1;33m\u001b[0m\u001b[0m\n\u001b[0;32m   3728\u001b[0m         \u001b[1;32mif\u001b[0m \u001b[0maxis\u001b[0m \u001b[1;33m==\u001b[0m \u001b[1;36m1\u001b[0m\u001b[1;33m:\u001b[0m\u001b[1;33m\u001b[0m\u001b[1;33m\u001b[0m\u001b[0m\n\u001b[1;32m-> 3729\u001b[1;33m             \u001b[1;32mreturn\u001b[0m \u001b[0mself\u001b[0m\u001b[1;33m[\u001b[0m\u001b[0mkey\u001b[0m\u001b[1;33m]\u001b[0m\u001b[1;33m\u001b[0m\u001b[1;33m\u001b[0m\u001b[0m\n\u001b[0m\u001b[0;32m   3730\u001b[0m \u001b[1;33m\u001b[0m\u001b[0m\n\u001b[0;32m   3731\u001b[0m         \u001b[0mself\u001b[0m\u001b[1;33m.\u001b[0m\u001b[0m_consolidate_inplace\u001b[0m\u001b[1;33m(\u001b[0m\u001b[1;33m)\u001b[0m\u001b[1;33m\u001b[0m\u001b[1;33m\u001b[0m\u001b[0m\n",
      "\u001b[1;32m~\\Anaconda3\\lib\\site-packages\\pandas\\core\\frame.py\u001b[0m in \u001b[0;36m__getitem__\u001b[1;34m(self, key)\u001b[0m\n\u001b[0;32m   2978\u001b[0m             \u001b[1;32mif\u001b[0m \u001b[0mself\u001b[0m\u001b[1;33m.\u001b[0m\u001b[0mcolumns\u001b[0m\u001b[1;33m.\u001b[0m\u001b[0mnlevels\u001b[0m \u001b[1;33m>\u001b[0m \u001b[1;36m1\u001b[0m\u001b[1;33m:\u001b[0m\u001b[1;33m\u001b[0m\u001b[1;33m\u001b[0m\u001b[0m\n\u001b[0;32m   2979\u001b[0m                 \u001b[1;32mreturn\u001b[0m \u001b[0mself\u001b[0m\u001b[1;33m.\u001b[0m\u001b[0m_getitem_multilevel\u001b[0m\u001b[1;33m(\u001b[0m\u001b[0mkey\u001b[0m\u001b[1;33m)\u001b[0m\u001b[1;33m\u001b[0m\u001b[1;33m\u001b[0m\u001b[0m\n\u001b[1;32m-> 2980\u001b[1;33m             \u001b[0mindexer\u001b[0m \u001b[1;33m=\u001b[0m \u001b[0mself\u001b[0m\u001b[1;33m.\u001b[0m\u001b[0mcolumns\u001b[0m\u001b[1;33m.\u001b[0m\u001b[0mget_loc\u001b[0m\u001b[1;33m(\u001b[0m\u001b[0mkey\u001b[0m\u001b[1;33m)\u001b[0m\u001b[1;33m\u001b[0m\u001b[1;33m\u001b[0m\u001b[0m\n\u001b[0m\u001b[0;32m   2981\u001b[0m             \u001b[1;32mif\u001b[0m \u001b[0mis_integer\u001b[0m\u001b[1;33m(\u001b[0m\u001b[0mindexer\u001b[0m\u001b[1;33m)\u001b[0m\u001b[1;33m:\u001b[0m\u001b[1;33m\u001b[0m\u001b[1;33m\u001b[0m\u001b[0m\n\u001b[0;32m   2982\u001b[0m                 \u001b[0mindexer\u001b[0m \u001b[1;33m=\u001b[0m \u001b[1;33m[\u001b[0m\u001b[0mindexer\u001b[0m\u001b[1;33m]\u001b[0m\u001b[1;33m\u001b[0m\u001b[1;33m\u001b[0m\u001b[0m\n",
      "\u001b[1;32m~\\Anaconda3\\lib\\site-packages\\pandas\\core\\indexes\\base.py\u001b[0m in \u001b[0;36mget_loc\u001b[1;34m(self, key, method, tolerance)\u001b[0m\n\u001b[0;32m   2897\u001b[0m                 \u001b[1;32mreturn\u001b[0m \u001b[0mself\u001b[0m\u001b[1;33m.\u001b[0m\u001b[0m_engine\u001b[0m\u001b[1;33m.\u001b[0m\u001b[0mget_loc\u001b[0m\u001b[1;33m(\u001b[0m\u001b[0mkey\u001b[0m\u001b[1;33m)\u001b[0m\u001b[1;33m\u001b[0m\u001b[1;33m\u001b[0m\u001b[0m\n\u001b[0;32m   2898\u001b[0m             \u001b[1;32mexcept\u001b[0m \u001b[0mKeyError\u001b[0m\u001b[1;33m:\u001b[0m\u001b[1;33m\u001b[0m\u001b[1;33m\u001b[0m\u001b[0m\n\u001b[1;32m-> 2899\u001b[1;33m                 \u001b[1;32mreturn\u001b[0m \u001b[0mself\u001b[0m\u001b[1;33m.\u001b[0m\u001b[0m_engine\u001b[0m\u001b[1;33m.\u001b[0m\u001b[0mget_loc\u001b[0m\u001b[1;33m(\u001b[0m\u001b[0mself\u001b[0m\u001b[1;33m.\u001b[0m\u001b[0m_maybe_cast_indexer\u001b[0m\u001b[1;33m(\u001b[0m\u001b[0mkey\u001b[0m\u001b[1;33m)\u001b[0m\u001b[1;33m)\u001b[0m\u001b[1;33m\u001b[0m\u001b[1;33m\u001b[0m\u001b[0m\n\u001b[0m\u001b[0;32m   2900\u001b[0m         \u001b[0mindexer\u001b[0m \u001b[1;33m=\u001b[0m \u001b[0mself\u001b[0m\u001b[1;33m.\u001b[0m\u001b[0mget_indexer\u001b[0m\u001b[1;33m(\u001b[0m\u001b[1;33m[\u001b[0m\u001b[0mkey\u001b[0m\u001b[1;33m]\u001b[0m\u001b[1;33m,\u001b[0m \u001b[0mmethod\u001b[0m\u001b[1;33m=\u001b[0m\u001b[0mmethod\u001b[0m\u001b[1;33m,\u001b[0m \u001b[0mtolerance\u001b[0m\u001b[1;33m=\u001b[0m\u001b[0mtolerance\u001b[0m\u001b[1;33m)\u001b[0m\u001b[1;33m\u001b[0m\u001b[1;33m\u001b[0m\u001b[0m\n\u001b[0;32m   2901\u001b[0m         \u001b[1;32mif\u001b[0m \u001b[0mindexer\u001b[0m\u001b[1;33m.\u001b[0m\u001b[0mndim\u001b[0m \u001b[1;33m>\u001b[0m \u001b[1;36m1\u001b[0m \u001b[1;32mor\u001b[0m \u001b[0mindexer\u001b[0m\u001b[1;33m.\u001b[0m\u001b[0msize\u001b[0m \u001b[1;33m>\u001b[0m \u001b[1;36m1\u001b[0m\u001b[1;33m:\u001b[0m\u001b[1;33m\u001b[0m\u001b[1;33m\u001b[0m\u001b[0m\n",
      "\u001b[1;32mpandas\\_libs\\index.pyx\u001b[0m in \u001b[0;36mpandas._libs.index.IndexEngine.get_loc\u001b[1;34m()\u001b[0m\n",
      "\u001b[1;32mpandas\\_libs\\index.pyx\u001b[0m in \u001b[0;36mpandas._libs.index.IndexEngine.get_loc\u001b[1;34m()\u001b[0m\n",
      "\u001b[1;32mpandas\\_libs\\hashtable_class_helper.pxi\u001b[0m in \u001b[0;36mpandas._libs.hashtable.PyObjectHashTable.get_item\u001b[1;34m()\u001b[0m\n",
      "\u001b[1;32mpandas\\_libs\\hashtable_class_helper.pxi\u001b[0m in \u001b[0;36mpandas._libs.hashtable.PyObjectHashTable.get_item\u001b[1;34m()\u001b[0m\n",
      "\u001b[1;31mKeyError\u001b[0m: 'gg'"
     ]
    }
   ],
   "source": [
    "from sklearn.model_selection import train_test_split\n",
    "\n",
    "train, test = train_test_split(df, train_size = 0.7)\n",
    "train_X = np.array(train.loc[:, ['POSITION', 'OPP_POS_FPTS_MIN','OPP_DEF_RTNG','OPP_PACE','OPP_PTS_PAINT','H/A','DAYS_REST']])\n",
    "train_y = np.array(train.loc[:, 'gg'])\n",
    "test_X = np.array(test.loc[:, ['POSITION', 'OPP_POS_FPTS_MIN','OPP_DEF_RTNG','OPP_PACE','OPP_PTS_PAINT','H/A','DAYS_REST']])\n",
    "test_y = np.array(test.loc[:, 'gg'])"
   ]
  },
  {
   "cell_type": "code",
   "execution_count": null,
   "metadata": {},
   "outputs": [],
   "source": [
    "import statsmodels.api as sm\n",
    "logit_model=sm.Logit(train_y, train_X)\n",
    "result=logit_model.fit()\n",
    "print(result.summary2())"
   ]
  },
  {
   "cell_type": "code",
   "execution_count": null,
   "metadata": {},
   "outputs": [],
   "source": [
    "print(df.columns)"
   ]
  },
  {
   "cell_type": "code",
   "execution_count": null,
   "metadata": {},
   "outputs": [],
   "source": [
    "#X_train, X_test, y_train, y_test = train_test_split(X, y, test_size=0.3, random_state=0)\n",
    "#logreg = LogisticRegression()\n",
    "#logreg.fit(X_train, y_train)\n",
    "from sklearn.linear_model import LogisticRegression\n",
    "LR = LogisticRegression(random_state=0, solver='lbfgs', multi_class='ovr').fit(train_X, train_y)\n",
    "LR.predict(test_X)\n",
    "round(LR.score(train_X,train_y), 4)"
   ]
  },
  {
   "cell_type": "markdown",
   "metadata": {},
   "source": [
    "### Support Vector Machines Classification"
   ]
  },
  {
   "cell_type": "code",
   "execution_count": null,
   "metadata": {},
   "outputs": [],
   "source": [
    "from sklearn import svm\n",
    "SVM = svm.LinearSVC()\n",
    "SVM.fit(train_X, train_y)\n",
    "SVM.predict(test_X)\n",
    "round(SVM.score(train_X,train_y), 4)"
   ]
  },
  {
   "cell_type": "markdown",
   "metadata": {},
   "source": [
    "### Random Forests Classification"
   ]
  },
  {
   "cell_type": "code",
   "execution_count": null,
   "metadata": {},
   "outputs": [],
   "source": [
    "RF = RandomForestClassifier(n_estimators=100, max_depth=2, random_state=0)\n",
    "RF.fit(X, y)\n",
    "RF.predict(X.iloc[460:,:])\n",
    "round(RF.score(X,y), 4)"
   ]
  },
  {
   "cell_type": "markdown",
   "metadata": {},
   "source": [
    "### Neural Networks "
   ]
  },
  {
   "cell_type": "code",
   "execution_count": null,
   "metadata": {},
   "outputs": [],
   "source": [
    "NN = MLPClassifier(solver='lbfgs', alpha=1e-5, hidden_layer_sizes=(5, 2), random_state=1)\n",
    "NN.fit(X, y)\n",
    "NN.predict(X.iloc[460:,:])\n",
    "round(NN.score(X,y), 4)"
   ]
  }
 ],
 "metadata": {
  "kernelspec": {
   "display_name": "Python 3",
   "language": "python",
   "name": "python3"
  },
  "language_info": {
   "codemirror_mode": {
    "name": "ipython",
    "version": 3
   },
   "file_extension": ".py",
   "mimetype": "text/x-python",
   "name": "python",
   "nbconvert_exporter": "python",
   "pygments_lexer": "ipython3",
   "version": "3.7.4"
  }
 },
 "nbformat": 4,
 "nbformat_minor": 2
}
